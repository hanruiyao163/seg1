{
 "cells": [
  {
   "cell_type": "code",
   "execution_count": 1,
   "id": "012e8447",
   "metadata": {},
   "outputs": [],
   "source": [
    "import json"
   ]
  },
  {
   "cell_type": "code",
   "execution_count": 2,
   "id": "57dbcff3",
   "metadata": {},
   "outputs": [],
   "source": [
    "label = json.load(open(r\"D:\\books-dataset\\yolo-exp-etl-data\\train\\json_only\\0103aa17eea4218c57_b.json\", 'r', encoding='utf-8'))"
   ]
  },
  {
   "cell_type": "code",
   "execution_count": 5,
   "id": "f1cb0b03",
   "metadata": {},
   "outputs": [
    {
     "data": {
      "text/plain": [
       "51"
      ]
     },
     "execution_count": 5,
     "metadata": {},
     "output_type": "execute_result"
    }
   ],
   "source": [
    "len(label['shapes'])"
   ]
  },
  {
   "cell_type": "code",
   "execution_count": 4,
   "id": "a70c6d35",
   "metadata": {},
   "outputs": [
    {
     "name": "stdout",
     "output_type": "stream",
     "text": [
      "0\n"
     ]
    }
   ],
   "source": [
    "for s in label['shapes']:\n",
    "    if s['shape_type'] == 'polygon':\n",
    "        if len(s['points']) <= 2:\n",
    "            print(len(s['points']))\n",
    "            label['shapes'].remove(s)\n",
    "            pass"
   ]
  }
 ],
 "metadata": {
  "kernelspec": {
   "display_name": "labelme",
   "language": "python",
   "name": "python3"
  },
  "language_info": {
   "codemirror_mode": {
    "name": "ipython",
    "version": 3
   },
   "file_extension": ".py",
   "mimetype": "text/x-python",
   "name": "python",
   "nbconvert_exporter": "python",
   "pygments_lexer": "ipython3",
   "version": "3.12.11"
  }
 },
 "nbformat": 4,
 "nbformat_minor": 5
}
